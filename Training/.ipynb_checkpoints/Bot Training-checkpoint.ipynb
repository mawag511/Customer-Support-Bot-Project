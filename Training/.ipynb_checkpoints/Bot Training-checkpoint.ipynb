{
 "cells": [
  {
   "cell_type": "markdown",
   "id": "4b4efebd",
   "metadata": {},
   "source": [
    "# Bot training with example data (classification of user requests)"
   ]
  },
  {
   "cell_type": "markdown",
   "id": "aafe70cc",
   "metadata": {},
   "source": [
    "## Data preparation"
   ]
  },
  {
   "cell_type": "code",
   "execution_count": 1,
   "id": "187234a9",
   "metadata": {},
   "outputs": [
    {
     "name": "stderr",
     "output_type": "stream",
     "text": [
      "[nltk_data] Downloading package punkt to\n",
      "[nltk_data]     C:\\Users\\user\\AppData\\Roaming\\nltk_data...\n",
      "[nltk_data]   Package punkt is already up-to-date!\n",
      "[nltk_data] Downloading package wordnet to\n",
      "[nltk_data]     C:\\Users\\user\\AppData\\Roaming\\nltk_data...\n",
      "[nltk_data]   Package wordnet is already up-to-date!\n"
     ]
    }
   ],
   "source": [
    "import random\n",
    "import json\n",
    "import pickle\n",
    "import numpy as np\n",
    "import nltk\n",
    "nltk.download('punkt')\n",
    "nltk.download('wordnet')\n",
    "from nltk.stem import WordNetLemmatizer\n",
    "from tensorflow.keras.models import Sequential\n",
    "from tensorflow.keras.layers import Dense, Activation, Dropout\n",
    "from tensorflow.keras.optimizers import SGD\n",
    "import matplotlib.pyplot as plt\n",
    "%matplotlib inline\n",
    "import pandas as pd"
   ]
  },
  {
   "cell_type": "code",
   "execution_count": 2,
   "id": "5b549560",
   "metadata": {},
   "outputs": [],
   "source": [
    "lemmatizer = WordNetLemmatizer()"
   ]
  },
  {
   "cell_type": "code",
   "execution_count": 3,
   "id": "ba6717d5",
   "metadata": {},
   "outputs": [],
   "source": [
    "requests = json.loads(open('example_data.json').read())"
   ]
  },
  {
   "cell_type": "code",
   "execution_count": 4,
   "id": "80065646",
   "metadata": {},
   "outputs": [],
   "source": [
    "words = []\n",
    "classes = []\n",
    "documents = []\n",
    "ignore_letters = ['?', '!', ',', '.']"
   ]
  },
  {
   "cell_type": "code",
   "execution_count": 5,
   "id": "ea1eaca2",
   "metadata": {},
   "outputs": [
    {
     "name": "stdout",
     "output_type": "stream",
     "text": [
      "[(['hello'], 'greeting'), (['hey'], 'greeting'), (['hi'], 'greeting'), (['hello', 'bot'], 'greeting'), (['goodday'], 'greeting'), (['good', 'day'], 'greeting'), (['greetings'], 'greeting'), (['good', 'evening'], 'greeting'), (['goodevening'], 'greeting'), (['heya'], 'greeting'), (['thank', 'you', ',', 'good', 'bye'], 'goodbye'), (['thanks', ',', 'good', 'bye'], 'goodbye'), (['thanks', 'bye'], 'goodbye'), (['bye'], 'goodbye'), (['bye', 'bye'], 'goodbye'), (['thank', 'you'], 'goodbye'), (['alright'], 'goodbye'), (['byebye'], 'goodbye'), (['goodbye'], 'goodbye'), (['thank', 'you', ',', 'goodbye'], 'goodbye'), (['thanks', 'goodbye'], 'goodbye'), (['ok'], 'goodbye'), (['okay'], 'goodbye'), (['could', 'i', 'get', 'the', 'contacts', 'of', 'the', 'firm', '?'], 'contact_request'), (['could', 'i', 'get', 'the', 'contacts', 'of', 'the', 'company', '?'], 'contact_request'), (['what', 'are', 'the', 'contacts', 'of', 'the', 'firm', '?'], 'contact_request'), (['what', 'are', 'the', 'contacts', 'of', 'the', 'company', '?'], 'contact_request'), (['can', 'i', 'get', 'a', 'link', 'to', 'the', 'site', '?'], 'contact_request'), (['what', \"'s\", 'the', 'link', 'to', 'the', 'site', '?'], 'contact_request'), (['site', 'link'], 'contact_request'), (['contacts'], 'contact_request'), (['how', 'to', 'contact', 'the', 'firm', '?'], 'contact_request'), (['how', 'to', 'contact', 'the', 'company', '?'], 'contact_request'), (['i', 'need', 'the', 'contact', 'information', 'of', 'the', 'firm'], 'contact_request'), (['i', 'need', 'the', 'contact', 'information', 'of', 'the', 'company'], 'contact_request'), (['may', 'i', 'get', 'the', 'contact', 'info', '?'], 'contact_request'), (['i', 'need', 'contact', 'information'], 'contact_request'), (['is', '0445234586', 'available', '?'], 'injector_availability_request'), (['do', 'you', 'have', '0442964646', '?'], 'injector_availability_request'), (['can', 'i', 'buy', 'injector', '0445110345', '?'], 'injector_availability_request'), (['i', 'want', 'to', 'purchase', 'injector', '044296458646'], 'injector_availability_request'), (['i', 'need', '0445250758'], 'injector_availability_request'), (['i', 'need', 'this', 'injector', '0445327974'], 'injector_availability_request'), (['injector', '0445327978', 'availability'], 'injector_availability_request'), (['injector', 'info', '0445234586'], 'injector_information_request'), (['injector', '0445234386', 'information'], 'injector_information_request'), (['can', 'i', 'get', 'information', 'on', 'the', 'injector', '0442964546'], 'injector_information_request'), (['info', 'on', '0445250758'], 'injector_information_request'), (['details', 'about', '044296458646'], 'injector_information_request'), ([], 'unidentified')]\n"
     ]
    }
   ],
   "source": [
    "for request in requests['requests']:\n",
    "    for pattern in request['patterns']:\n",
    "        word_list = nltk.word_tokenize(pattern)\n",
    "        words.extend(word_list)\n",
    "        documents.append((word_list, request['tag']))\n",
    "        if request['tag'] not in classes:\n",
    "            classes.append(request['tag'])\n",
    "print(documents)"
   ]
  },
  {
   "cell_type": "code",
   "execution_count": 6,
   "id": "cbae80e6",
   "metadata": {},
   "outputs": [],
   "source": [
    "words = [lemmatizer.lemmatize(word.lower()) for word in words if word not in ignore_letters]\n",
    "# eliminates duplicates\n",
    "words = sorted(set(words))"
   ]
  },
  {
   "cell_type": "code",
   "execution_count": 7,
   "id": "fb9ba41b",
   "metadata": {},
   "outputs": [
    {
     "name": "stdout",
     "output_type": "stream",
     "text": [
      "[\"'s\", '0442964546', '044296458646', '0442964646', '0445110345', '0445234386', '0445234586', '0445250758', '0445327974', '0445327978', 'a', 'about', 'alright', 'are', 'availability', 'available', 'bot', 'buy', 'bye', 'byebye', 'can', 'company', 'contact', 'could', 'day', 'detail', 'do', 'evening', 'firm', 'get', 'good', 'goodbye', 'goodday', 'goodevening', 'greeting', 'have', 'hello', 'hey', 'heya', 'hi', 'how', 'i', 'info', 'information', 'injector', 'is', 'link', 'may', 'need', 'of', 'ok', 'okay', 'on', 'purchase', 'site', 'thank', 'thanks', 'the', 'this', 'to', 'want', 'what', 'you']\n"
     ]
    }
   ],
   "source": [
    "print(words)"
   ]
  },
  {
   "cell_type": "code",
   "execution_count": 8,
   "id": "9d3fb99c",
   "metadata": {},
   "outputs": [],
   "source": [
    "classes = sorted(set(classes))"
   ]
  },
  {
   "cell_type": "code",
   "execution_count": 9,
   "id": "c7946623",
   "metadata": {},
   "outputs": [],
   "source": [
    "pickle.dump(words, open('words.pkl', 'wb'))"
   ]
  },
  {
   "cell_type": "code",
   "execution_count": 10,
   "id": "2e3c8600",
   "metadata": {},
   "outputs": [],
   "source": [
    "pickle.dump(classes, open('classes.pkl', 'wb'))"
   ]
  },
  {
   "cell_type": "code",
   "execution_count": 11,
   "id": "e0de309a",
   "metadata": {},
   "outputs": [],
   "source": [
    "training = []\n",
    "output_empty = [0] * len(classes)\n",
    "for document in documents:\n",
    "    bag = []\n",
    "    word_patterns = document[0]\n",
    "    word_patterns = [lemmatizer.lemmatize(word.lower()) for word in word_patterns]\n",
    "    for word in words:\n",
    "        bag.append(1) if word in word_patterns else bag.append(0)\n",
    "    output_row = list(output_empty)\n",
    "    output_row[classes.index(document[1])] = 1\n",
    "    training.append([bag, output_row])"
   ]
  },
  {
   "cell_type": "code",
   "execution_count": 12,
   "id": "463e65a3",
   "metadata": {},
   "outputs": [
    {
     "name": "stderr",
     "output_type": "stream",
     "text": [
      "<ipython-input-12-cc0bc1dae1db>:2: VisibleDeprecationWarning: Creating an ndarray from ragged nested sequences (which is a list-or-tuple of lists-or-tuples-or ndarrays with different lengths or shapes) is deprecated. If you meant to do this, you must specify 'dtype=object' when creating the ndarray.\n",
      "  training = np.array(training)\n"
     ]
    }
   ],
   "source": [
    "random.shuffle(training)\n",
    "training = np.array(training)"
   ]
  },
  {
   "cell_type": "code",
   "execution_count": 13,
   "id": "be06ad56",
   "metadata": {},
   "outputs": [],
   "source": [
    "train_x = list(training[:, 0])\n",
    "train_y = list(training[:, 1])"
   ]
  },
  {
   "cell_type": "markdown",
   "id": "089ffd29",
   "metadata": {},
   "source": [
    "## Model building"
   ]
  },
  {
   "cell_type": "code",
   "execution_count": 14,
   "id": "e49a099c",
   "metadata": {},
   "outputs": [],
   "source": [
    "model = Sequential()\n",
    "# relu - takes a single number as an input, returning 0 if the input is negative, and the input if the input is positive\n",
    "model.add(Dense(128, input_shape = (len(train_x[0]),), activation= 'relu'))\n",
    "model.add(Dropout(0.5))\n",
    "model.add(Dense(64, activation = 'relu'))\n",
    "model.add(Dropout(0.5))\n",
    "# softmax - used in output layers of neural network models that predict a multinomial probability distribution\n",
    "model.add(Dense(len(train_y[0]), activation = 'softmax'))"
   ]
  },
  {
   "cell_type": "code",
   "execution_count": 15,
   "id": "5953870b",
   "metadata": {},
   "outputs": [
    {
     "name": "stdout",
     "output_type": "stream",
     "text": [
      "Epoch 1/100\n",
      "10/10 [==============================] - 0s 4ms/step - loss: 1.7719 - accuracy: 0.2400\n",
      "Epoch 2/100\n",
      "10/10 [==============================] - 0s 4ms/step - loss: 1.6000 - accuracy: 0.2400\n",
      "Epoch 3/100\n",
      "10/10 [==============================] - 0s 3ms/step - loss: 1.5054 - accuracy: 0.3600\n",
      "Epoch 4/100\n",
      "10/10 [==============================] - 0s 4ms/step - loss: 1.3532 - accuracy: 0.4400\n",
      "Epoch 5/100\n",
      "10/10 [==============================] - 0s 4ms/step - loss: 1.2284 - accuracy: 0.5200\n",
      "Epoch 6/100\n",
      "10/10 [==============================] - 0s 4ms/step - loss: 1.1192 - accuracy: 0.5600\n",
      "Epoch 7/100\n",
      "10/10 [==============================] - 0s 4ms/step - loss: 1.0376 - accuracy: 0.6800\n",
      "Epoch 8/100\n",
      "10/10 [==============================] - 0s 4ms/step - loss: 1.0195 - accuracy: 0.6400\n",
      "Epoch 9/100\n",
      "10/10 [==============================] - 0s 4ms/step - loss: 1.0277 - accuracy: 0.6400\n",
      "Epoch 10/100\n",
      "10/10 [==============================] - 0s 4ms/step - loss: 0.9040 - accuracy: 0.7000\n",
      "Epoch 11/100\n",
      "10/10 [==============================] - 0s 4ms/step - loss: 0.7851 - accuracy: 0.8400\n",
      "Epoch 12/100\n",
      "10/10 [==============================] - 0s 8ms/step - loss: 0.6890 - accuracy: 0.8800\n",
      "Epoch 13/100\n",
      "10/10 [==============================] - 0s 2ms/step - loss: 0.6767 - accuracy: 0.7800\n",
      "Epoch 14/100\n",
      "10/10 [==============================] - 0s 4ms/step - loss: 0.5881 - accuracy: 0.8400\n",
      "Epoch 15/100\n",
      "10/10 [==============================] - 0s 4ms/step - loss: 0.5578 - accuracy: 0.8600\n",
      "Epoch 16/100\n",
      "10/10 [==============================] - 0s 4ms/step - loss: 0.5480 - accuracy: 0.8600\n",
      "Epoch 17/100\n",
      "10/10 [==============================] - 0s 7ms/step - loss: 0.4149 - accuracy: 0.9200: 0s - loss: 0.3974 - accuracy: 0.92\n",
      "Epoch 18/100\n",
      "10/10 [==============================] - 0s 4ms/step - loss: 0.4111 - accuracy: 0.8600\n",
      "Epoch 19/100\n",
      "10/10 [==============================] - ETA: 0s - loss: 0.4860 - accuracy: 1.00 - 0s 4ms/step - loss: 0.4040 - accuracy: 0.8600\n",
      "Epoch 20/100\n",
      "10/10 [==============================] - 0s 3ms/step - loss: 0.3406 - accuracy: 0.9400\n",
      "Epoch 21/100\n",
      "10/10 [==============================] - 0s 3ms/step - loss: 0.5390 - accuracy: 0.7600\n",
      "Epoch 22/100\n",
      "10/10 [==============================] - 0s 9ms/step - loss: 0.3108 - accuracy: 0.9600\n",
      "Epoch 23/100\n",
      "10/10 [==============================] - 0s 3ms/step - loss: 0.3159 - accuracy: 0.9000\n",
      "Epoch 24/100\n",
      "10/10 [==============================] - 0s 3ms/step - loss: 0.2900 - accuracy: 0.9000\n",
      "Epoch 25/100\n",
      "10/10 [==============================] - 0s 4ms/step - loss: 0.2428 - accuracy: 0.9400\n",
      "Epoch 26/100\n",
      "10/10 [==============================] - 0s 3ms/step - loss: 0.2961 - accuracy: 0.9400\n",
      "Epoch 27/100\n",
      "10/10 [==============================] - 0s 6ms/step - loss: 0.2306 - accuracy: 0.9400\n",
      "Epoch 28/100\n",
      "10/10 [==============================] - 0s 4ms/step - loss: 0.3213 - accuracy: 0.9600\n",
      "Epoch 29/100\n",
      "10/10 [==============================] - 0s 3ms/step - loss: 0.2401 - accuracy: 0.9400\n",
      "Epoch 30/100\n",
      "10/10 [==============================] - 0s 4ms/step - loss: 0.1425 - accuracy: 0.9800\n",
      "Epoch 31/100\n",
      "10/10 [==============================] - 0s 3ms/step - loss: 0.2476 - accuracy: 0.9400\n",
      "Epoch 32/100\n",
      "10/10 [==============================] - 0s 9ms/step - loss: 0.3312 - accuracy: 0.9200\n",
      "Epoch 33/100\n",
      "10/10 [==============================] - 0s 8ms/step - loss: 0.2008 - accuracy: 0.9400\n",
      "Epoch 34/100\n",
      "10/10 [==============================] - 0s 3ms/step - loss: 0.2108 - accuracy: 0.9400\n",
      "Epoch 35/100\n",
      "10/10 [==============================] - 0s 3ms/step - loss: 0.3093 - accuracy: 0.9200\n",
      "Epoch 36/100\n",
      "10/10 [==============================] - 0s 5ms/step - loss: 0.2029 - accuracy: 0.9400\n",
      "Epoch 37/100\n",
      "10/10 [==============================] - 0s 4ms/step - loss: 0.1431 - accuracy: 0.9600\n",
      "Epoch 38/100\n",
      "10/10 [==============================] - 0s 3ms/step - loss: 0.1522 - accuracy: 0.9800\n",
      "Epoch 39/100\n",
      "10/10 [==============================] - 0s 6ms/step - loss: 0.1889 - accuracy: 0.9600\n",
      "Epoch 40/100\n",
      "10/10 [==============================] - 0s 5ms/step - loss: 0.1368 - accuracy: 0.9800\n",
      "Epoch 41/100\n",
      "10/10 [==============================] - 0s 3ms/step - loss: 0.1411 - accuracy: 0.9600\n",
      "Epoch 42/100\n",
      "10/10 [==============================] - 0s 4ms/step - loss: 0.1508 - accuracy: 0.9600\n",
      "Epoch 43/100\n",
      "10/10 [==============================] - 0s 4ms/step - loss: 0.1505 - accuracy: 0.9400\n",
      "Epoch 44/100\n",
      "10/10 [==============================] - 0s 4ms/step - loss: 0.1213 - accuracy: 0.9600\n",
      "Epoch 45/100\n",
      "10/10 [==============================] - 0s 4ms/step - loss: 0.1397 - accuracy: 0.9800\n",
      "Epoch 46/100\n",
      "10/10 [==============================] - 0s 4ms/step - loss: 0.1912 - accuracy: 0.9600\n",
      "Epoch 47/100\n",
      "10/10 [==============================] - 0s 4ms/step - loss: 0.1444 - accuracy: 0.9600\n",
      "Epoch 48/100\n",
      "10/10 [==============================] - 0s 4ms/step - loss: 0.0989 - accuracy: 0.9600\n",
      "Epoch 49/100\n",
      "10/10 [==============================] - 0s 4ms/step - loss: 0.1247 - accuracy: 0.9800\n",
      "Epoch 50/100\n",
      "10/10 [==============================] - 0s 7ms/step - loss: 0.1654 - accuracy: 0.9600\n",
      "Epoch 51/100\n",
      "10/10 [==============================] - 0s 3ms/step - loss: 0.1784 - accuracy: 0.9200\n",
      "Epoch 52/100\n",
      "10/10 [==============================] - 0s 3ms/step - loss: 0.1634 - accuracy: 0.9600\n",
      "Epoch 53/100\n",
      "10/10 [==============================] - 0s 3ms/step - loss: 0.0840 - accuracy: 0.9800\n",
      "Epoch 54/100\n",
      "10/10 [==============================] - 0s 4ms/step - loss: 0.1037 - accuracy: 0.9800\n",
      "Epoch 55/100\n",
      "10/10 [==============================] - 0s 4ms/step - loss: 0.1060 - accuracy: 0.9600\n",
      "Epoch 56/100\n",
      "10/10 [==============================] - 0s 3ms/step - loss: 0.0752 - accuracy: 0.9800\n",
      "Epoch 57/100\n",
      "10/10 [==============================] - 0s 4ms/step - loss: 0.0837 - accuracy: 0.9800\n",
      "Epoch 58/100\n",
      "10/10 [==============================] - 0s 3ms/step - loss: 0.0668 - accuracy: 0.9800\n",
      "Epoch 59/100\n",
      "10/10 [==============================] - 0s 3ms/step - loss: 0.0754 - accuracy: 0.9800\n",
      "Epoch 60/100\n",
      "10/10 [==============================] - 0s 5ms/step - loss: 0.0739 - accuracy: 0.9800\n",
      "Epoch 61/100\n",
      "10/10 [==============================] - 0s 3ms/step - loss: 0.1252 - accuracy: 0.9800\n",
      "Epoch 62/100\n",
      "10/10 [==============================] - 0s 3ms/step - loss: 0.0633 - accuracy: 0.9800\n",
      "Epoch 63/100\n",
      "10/10 [==============================] - 0s 3ms/step - loss: 0.0752 - accuracy: 0.9800\n",
      "Epoch 64/100\n",
      "10/10 [==============================] - 0s 3ms/step - loss: 0.0675 - accuracy: 1.0000\n",
      "Epoch 65/100\n",
      "10/10 [==============================] - 0s 3ms/step - loss: 0.0417 - accuracy: 0.9800\n",
      "Epoch 66/100\n",
      "10/10 [==============================] - 0s 3ms/step - loss: 0.1467 - accuracy: 0.9400\n",
      "Epoch 67/100\n",
      "10/10 [==============================] - 0s 3ms/step - loss: 0.0543 - accuracy: 0.9800\n",
      "Epoch 68/100\n",
      "10/10 [==============================] - 0s 3ms/step - loss: 0.0902 - accuracy: 0.9600\n",
      "Epoch 69/100\n",
      "10/10 [==============================] - 0s 3ms/step - loss: 0.0722 - accuracy: 0.9800\n",
      "Epoch 70/100\n",
      "10/10 [==============================] - 0s 3ms/step - loss: 0.0720 - accuracy: 1.0000\n",
      "Epoch 71/100\n",
      "10/10 [==============================] - 0s 3ms/step - loss: 0.0677 - accuracy: 0.9800\n",
      "Epoch 72/100\n",
      "10/10 [==============================] - 0s 5ms/step - loss: 0.0566 - accuracy: 1.0000\n",
      "Epoch 73/100\n",
      "10/10 [==============================] - 0s 3ms/step - loss: 0.0447 - accuracy: 1.0000\n",
      "Epoch 74/100\n",
      "10/10 [==============================] - 0s 3ms/step - loss: 0.0602 - accuracy: 0.9800\n",
      "Epoch 75/100\n",
      "10/10 [==============================] - 0s 2ms/step - loss: 0.0673 - accuracy: 1.0000\n",
      "Epoch 76/100\n",
      "10/10 [==============================] - 0s 3ms/step - loss: 0.0458 - accuracy: 0.9800\n",
      "Epoch 77/100\n",
      "10/10 [==============================] - 0s 3ms/step - loss: 0.0566 - accuracy: 0.9800\n",
      "Epoch 78/100\n",
      "10/10 [==============================] - 0s 3ms/step - loss: 0.0862 - accuracy: 0.9600\n",
      "Epoch 79/100\n",
      "10/10 [==============================] - 0s 3ms/step - loss: 0.0881 - accuracy: 0.9400\n",
      "Epoch 80/100\n",
      "10/10 [==============================] - 0s 3ms/step - loss: 0.0653 - accuracy: 0.9800\n",
      "Epoch 81/100\n",
      "10/10 [==============================] - 0s 2ms/step - loss: 0.0731 - accuracy: 0.9600\n",
      "Epoch 82/100\n"
     ]
    },
    {
     "name": "stdout",
     "output_type": "stream",
     "text": [
      "10/10 [==============================] - 0s 3ms/step - loss: 0.1012 - accuracy: 0.9600\n",
      "Epoch 83/100\n",
      "10/10 [==============================] - 0s 3ms/step - loss: 0.1041 - accuracy: 0.9400\n",
      "Epoch 84/100\n",
      "10/10 [==============================] - 0s 3ms/step - loss: 0.0735 - accuracy: 0.9800\n",
      "Epoch 85/100\n",
      "10/10 [==============================] - 0s 3ms/step - loss: 0.0790 - accuracy: 0.9800\n",
      "Epoch 86/100\n",
      "10/10 [==============================] - 0s 3ms/step - loss: 0.0585 - accuracy: 0.9800\n",
      "Epoch 87/100\n",
      "10/10 [==============================] - 0s 3ms/step - loss: 0.0759 - accuracy: 0.9800\n",
      "Epoch 88/100\n",
      "10/10 [==============================] - 0s 3ms/step - loss: 0.0308 - accuracy: 1.0000\n",
      "Epoch 89/100\n",
      "10/10 [==============================] - 0s 3ms/step - loss: 0.0671 - accuracy: 1.0000\n",
      "Epoch 90/100\n",
      "10/10 [==============================] - 0s 4ms/step - loss: 0.0419 - accuracy: 0.9800\n",
      "Epoch 91/100\n",
      "10/10 [==============================] - 0s 3ms/step - loss: 0.0788 - accuracy: 0.9600\n",
      "Epoch 92/100\n",
      "10/10 [==============================] - 0s 3ms/step - loss: 0.0454 - accuracy: 0.9800\n",
      "Epoch 93/100\n",
      "10/10 [==============================] - 0s 3ms/step - loss: 0.0556 - accuracy: 0.9800\n",
      "Epoch 94/100\n",
      "10/10 [==============================] - 0s 5ms/step - loss: 0.0392 - accuracy: 1.0000\n",
      "Epoch 95/100\n",
      "10/10 [==============================] - 0s 3ms/step - loss: 0.0428 - accuracy: 1.0000\n",
      "Epoch 96/100\n",
      "10/10 [==============================] - 0s 4ms/step - loss: 0.0539 - accuracy: 0.9800\n",
      "Epoch 97/100\n",
      "10/10 [==============================] - 0s 4ms/step - loss: 0.0365 - accuracy: 0.9800\n",
      "Epoch 98/100\n",
      "10/10 [==============================] - 0s 4ms/step - loss: 0.0442 - accuracy: 1.0000\n",
      "Epoch 99/100\n",
      "10/10 [==============================] - 0s 3ms/step - loss: 0.0553 - accuracy: 0.9800\n",
      "Epoch 100/100\n",
      "10/10 [==============================] - 0s 4ms/step - loss: 0.0331 - accuracy: 1.0000\n",
      "Done\n"
     ]
    }
   ],
   "source": [
    "sgd = SGD(lr = 0.01, decay = 1e-6, momentum = 0.9, nesterov = True)\n",
    "# categorical crossentropy - loss function for multi-class classification models where there are two or more output labels\n",
    "# sgd - stochastic gradient descent\n",
    "model.compile(loss = 'categorical_crossentropy', optimizer = sgd, metrics = ['accuracy'])\n",
    "var = model.fit(np.array(train_x), np.array(train_y), epochs = 100, batch_size = 5, verbose = 1)\n",
    "model.save('supportbot_model.h5', var)\n",
    "print('Done')"
   ]
  },
  {
   "cell_type": "code",
   "execution_count": 16,
   "id": "8c18dc12",
   "metadata": {},
   "outputs": [
    {
     "data": {
      "text/plain": [
       "dict_keys(['loss', 'accuracy'])"
      ]
     },
     "execution_count": 16,
     "metadata": {},
     "output_type": "execute_result"
    }
   ],
   "source": [
    "model.history.history.keys()"
   ]
  },
  {
   "cell_type": "code",
   "execution_count": 17,
   "id": "d92587b3",
   "metadata": {},
   "outputs": [
    {
     "data": {
      "text/html": [
       "<div>\n",
       "<style scoped>\n",
       "    .dataframe tbody tr th:only-of-type {\n",
       "        vertical-align: middle;\n",
       "    }\n",
       "\n",
       "    .dataframe tbody tr th {\n",
       "        vertical-align: top;\n",
       "    }\n",
       "\n",
       "    .dataframe thead th {\n",
       "        text-align: right;\n",
       "    }\n",
       "</style>\n",
       "<table border=\"1\" class=\"dataframe\">\n",
       "  <thead>\n",
       "    <tr style=\"text-align: right;\">\n",
       "      <th></th>\n",
       "      <th>loss</th>\n",
       "      <th>accuracy</th>\n",
       "    </tr>\n",
       "  </thead>\n",
       "  <tbody>\n",
       "    <tr>\n",
       "      <th>0</th>\n",
       "      <td>1.771865</td>\n",
       "      <td>0.24</td>\n",
       "    </tr>\n",
       "    <tr>\n",
       "      <th>1</th>\n",
       "      <td>1.599973</td>\n",
       "      <td>0.24</td>\n",
       "    </tr>\n",
       "    <tr>\n",
       "      <th>2</th>\n",
       "      <td>1.505428</td>\n",
       "      <td>0.36</td>\n",
       "    </tr>\n",
       "    <tr>\n",
       "      <th>3</th>\n",
       "      <td>1.353172</td>\n",
       "      <td>0.44</td>\n",
       "    </tr>\n",
       "    <tr>\n",
       "      <th>4</th>\n",
       "      <td>1.228372</td>\n",
       "      <td>0.52</td>\n",
       "    </tr>\n",
       "    <tr>\n",
       "      <th>...</th>\n",
       "      <td>...</td>\n",
       "      <td>...</td>\n",
       "    </tr>\n",
       "    <tr>\n",
       "      <th>95</th>\n",
       "      <td>0.053921</td>\n",
       "      <td>0.98</td>\n",
       "    </tr>\n",
       "    <tr>\n",
       "      <th>96</th>\n",
       "      <td>0.036544</td>\n",
       "      <td>0.98</td>\n",
       "    </tr>\n",
       "    <tr>\n",
       "      <th>97</th>\n",
       "      <td>0.044173</td>\n",
       "      <td>1.00</td>\n",
       "    </tr>\n",
       "    <tr>\n",
       "      <th>98</th>\n",
       "      <td>0.055307</td>\n",
       "      <td>0.98</td>\n",
       "    </tr>\n",
       "    <tr>\n",
       "      <th>99</th>\n",
       "      <td>0.033111</td>\n",
       "      <td>1.00</td>\n",
       "    </tr>\n",
       "  </tbody>\n",
       "</table>\n",
       "<p>100 rows × 2 columns</p>\n",
       "</div>"
      ],
      "text/plain": [
       "        loss  accuracy\n",
       "0   1.771865      0.24\n",
       "1   1.599973      0.24\n",
       "2   1.505428      0.36\n",
       "3   1.353172      0.44\n",
       "4   1.228372      0.52\n",
       "..       ...       ...\n",
       "95  0.053921      0.98\n",
       "96  0.036544      0.98\n",
       "97  0.044173      1.00\n",
       "98  0.055307      0.98\n",
       "99  0.033111      1.00\n",
       "\n",
       "[100 rows x 2 columns]"
      ]
     },
     "execution_count": 17,
     "metadata": {},
     "output_type": "execute_result"
    }
   ],
   "source": [
    "metrics = pd.DataFrame(model.history.history)\n",
    "metrics"
   ]
  },
  {
   "cell_type": "code",
   "execution_count": 18,
   "id": "8f0e0aaf",
   "metadata": {},
   "outputs": [
    {
     "data": {
      "image/png": "[encoded data removed]",
      "text/plain": [
       "<Figure size 432x288 with 1 Axes>"
      ]
     },
     "metadata": {
      "needs_background": "light"
     },
     "output_type": "display_data"
    }
   ],
   "source": [
    "metrics[['loss', 'accuracy']].plot()\n",
    "plt.title('Loss Vs Accuracy', fontsize=16)\n",
    "plt.show()"
   ]
  }
 ],
 "metadata": {
  "kernelspec": {
   "display_name": "Python 3",
   "language": "python",
   "name": "python3"
  },
  "language_info": {
   "codemirror_mode": {
    "name": "ipython",
    "version": 3
   },
   "file_extension": ".py",
   "mimetype": "text/x-python",
   "name": "python",
   "nbconvert_exporter": "python",
   "pygments_lexer": "ipython3",
   "version": "3.8.8"
  }
 },
 "nbformat": 4,
 "nbformat_minor": 5
}
